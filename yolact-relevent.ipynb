{
 "cells": [
  {
   "cell_type": "code",
   "execution_count": 3,
   "metadata": {},
   "outputs": [
    {
     "name": "stdout",
     "output_type": "stream",
     "text": [
      "{'abrasion': 1, 'burn': 2, 'dent': 3, 'missing_tbc': 4, 'crack': 5, 'curl': 6, 'nick': 7, 'drop_piece': 8, 'hole': 9, 'missing_material': 10}\n",
      "['abrasion', 'burn', 'dent', 'missing_tbc', 'crack', 'curl', 'nick', 'drop_piece', 'hole', 'missing_material']\n",
      "['abrasion', 'burn', 'crack', 'curl', 'dent', 'drop_piece', 'hole', 'missing_material', 'missing_tbc', 'nick']\n",
      "{'abrasion': 1, 'burn': 2, 'crack': 3, 'curl': 4, 'dent': 5, 'drop_piece': 6, 'hole': 7, 'missing_material': 8, 'missing_tbc': 9, 'nick': 10}\n"
     ]
    }
   ],
   "source": [
    " dict1={\"abrasion\": 1,\"burn\": 2,\"dent\": 3,\"missing_tbc\": 4,\"crack\": 5,\"curl\": 6,\"nick\": 7,\"drop_piece\": 8,\"hole\": 9,\"missing_material\": 10}\n",
    "print(dict1)\n",
    "a=[]\n",
    "for i in dict1:\n",
    "    a.append(i)\n",
    "print(a)\n",
    "print(sorted(a))\n",
    "b={}\n",
    "for v,key in enumerate(sorted(a)):\n",
    "    b.update({key:v+1})\n",
    "print(b)"
   ]
  },
  {
   "cell_type": "code",
   "execution_count": null,
   "metadata": {},
   "outputs": [],
   "source": []
  }
 ],
 "metadata": {
  "kernelspec": {
   "display_name": "Python 3",
   "language": "python",
   "name": "python3"
  },
  "language_info": {
   "codemirror_mode": {
    "name": "ipython",
    "version": 3
   },
   "file_extension": ".py",
   "mimetype": "text/x-python",
   "name": "python",
   "nbconvert_exporter": "python",
   "pygments_lexer": "ipython3",
   "version": "3.7.4"
  }
 },
 "nbformat": 4,
 "nbformat_minor": 2
}

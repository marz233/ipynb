{
 "cells": [
  {
   "cell_type": "code",
   "execution_count": 8,
   "metadata": {},
   "outputs": [
    {
     "name": "stdout",
     "output_type": "stream",
     "text": [
      "ka\n"
     ]
    }
   ],
   "source": [
    "class Father(object):\n",
    "    def __init__(self, name, age):\n",
    "        self.name=name\n",
    "        self.age=age\n",
    "#         print ( f'name:{self.name}\\nage:{self.age}')\n",
    "    def getName(self):\n",
    "        return 'Father ' + self.name\n",
    "\n",
    "class Son(Father):\n",
    "    def __init__(self, name, t):\n",
    "        super(Son, self).__init__(name,300)\n",
    "#         print (f\"hi {t}\")\n",
    "        self.name =  name\n",
    "        self.extra_fields = {}\n",
    "    def add_field(self, field, field_data):\n",
    "        self.extra_fields[field] = field_data\n",
    "\n",
    "    def get_field(self, field):\n",
    "        return self.extra_fields[field]\n",
    "if __name__=='__main__':\n",
    "    son=Son('ob',4)\n",
    "    dog=Son('dog',1)\n",
    "    son.add_field('dog',dog)\n",
    "    a = son.get_field('dog')\n",
    "    a.name = 'ka'\n",
    "    print(dog.name)"
   ]
  },
  {
   "cell_type": "code",
   "execution_count": 10,
   "metadata": {},
   "outputs": [
    {
     "name": "stdout",
     "output_type": "stream",
     "text": [
      "<class 'list'> 5 [tensor([[-12.2024, -11.4666,  16.2024,  15.4666],\n",
      "        [-18.8841, -26.2711,  22.8841,  30.2711],\n",
      "        [-39.1086, -20.1178,  43.1086,  24.1178],\n",
      "        [-24.9139, -48.1950,  28.9139,  52.1950],\n",
      "        [-21.1108, -83.7139,  25.1108,  87.7139],\n",
      "        [-83.1892, -21.9650,  87.1892,  25.9650]]), tensor([[ -52.1549,  -38.2822,   60.1549,   46.2822],\n",
      "        [ -49.3465,  -66.6661,   57.3465,   74.6661],\n",
      "        [-124.9451,  -31.8628,  132.9451,   39.8628],\n",
      "        [ -40.8721, -108.2732,   48.8721,  116.2732],\n",
      "        [ -80.7704,  -57.9227,   88.7704,   65.9227],\n",
      "        [ -31.3205, -153.6987,   39.3205,  161.6987]]), tensor([[-177.9104,  -35.1698,  193.9104,   51.1698],\n",
      "        [ -73.2488,  -92.9349,   89.2488,  108.9349],\n",
      "        [-113.2528,  -77.2106,  129.2528,   93.2106],\n",
      "        [ -71.0433, -159.1586,   87.0433,  175.1586],\n",
      "        [-239.5410,  -49.8935,  255.5410,   65.8934],\n",
      "        [-160.0591,  -85.8740,  176.0591,  101.8740]]), tensor([[-103.3193, -119.1154,  135.3192,  151.1154],\n",
      "        [ -50.7286, -237.7285,   82.7286,  269.7285],\n",
      "        [-107.4945, -185.1722,  139.4944,  217.1722],\n",
      "        [-149.4949, -137.8940,  181.4949,  169.8940],\n",
      "        [-209.9539, -109.4934,  241.9539,  141.4934],\n",
      "        [-312.3513,  -70.3784,  344.3513,  102.3784]]), tensor([[-158.0667, -168.1416,  222.0667,  232.1416],\n",
      "        [-123.8824, -240.1823,  187.8824,  304.1823],\n",
      "        [-226.2778, -163.3611,  290.2778,  227.3611],\n",
      "        [-314.5714, -146.7857,  378.5714,  210.7857],\n",
      "        [-211.3044, -237.6739,  275.3044,  301.6739],\n",
      "        [-305.3571, -234.7857,  369.3571,  298.7857]])]\n"
     ]
    }
   ],
   "source": [
    "import numpy as np\n",
    "import torch\n",
    "shapes = [[89.7442, 224.5465], [41.7681, 56.5422], [516.5556, 390.7222], [336.1181, 187.748], [311.7647, 544.3647], [495.082, 115.7869], [112.3099, 84.5643], [693.1429, 357.5714], [257.8902, 71.7256], [246.9889, 402.3444], [106.6929, 141.3321], [656.7027, 172.7568], [242.5056, 170.4213], [133.4571, 507.4571], [158.0865, 334.3173], [170.3785, 47.9299], [53.8278, 100.39], [28.4048, 26.9332], [330.9899, 307.7879], [451.9079, 250.9868], [486.6087, 539.3478], [371.8208, 86.3396], [380.1333, 400.2833], [70.641, 315.3974], [162.4977, 201.8698], [238.6385, 270.2308], [46.2216, 171.4278], [169.5409, 123.8455], [674.7143, 533.5714], [82.2171, 44.2356]]\n",
    "\n",
    "# print(shapes)\n",
    "strides = (4, 8, 16, 32, 64) #P2~P6\n",
    "# stride = 16\n",
    "def generate_shaped_single_map_anchors(shapes, stride):\n",
    "    shapes = np.array(shapes, dtype=np.float)\n",
    "    c0_size_anchors = np.array([[-0.5*s[0], -0.5*s[1], 0.5*s[0], 0.5*s[1]] for s in shapes],\n",
    "                               dtype=np.float)\n",
    "    center_offset = np.array([stride/2] * 4)\n",
    "    single_map_anchors = np.array([coor*stride/256 + center_offset for coor in c0_size_anchors], dtype=np.float)\n",
    "    return torch.from_numpy(single_map_anchors)\n",
    "#------------------------------------------------------------------------------------------------------------\n",
    "def generate_shaped_all_map_anchors(shapes, strides):\n",
    "    shapes = np.array(shapes, dtype=np.float)\n",
    "    c0_size_anchors = np.array([[-0.5*s[0], -0.5*s[1], 0.5*s[0], 0.5*s[1]] for s in shapes],\n",
    "                               dtype=np.float)  \n",
    "    anchor_num_per_map = int(len(shapes) / len(strides))\n",
    "    \n",
    "    origin_offsets = [torch.tensor([[stride/2] * 4] * anchor_num_per_map) for stride in strides]\n",
    "    sorted_anchors_list = c0_size_anchors_sort_by_area(c0_size_anchors, strides)\n",
    "\n",
    "    shaped_all_map_anchors = [sorted_anchors + origin_offset\\\n",
    "         for sorted_anchors,origin_offset in zip(sorted_anchors_list, origin_offsets)]    \n",
    "    return shaped_all_map_anchors\n",
    "\n",
    "def c0_size_anchors_sort_by_area(c0_size_anchors, strides):\n",
    "    sorted_anchors = sorted(c0_size_anchors, key=lambda x:x[0]*x[1]*x[2]*x[3])\n",
    "    sorted_anchors = np.array(sorted_anchors, dtype=np.float)\n",
    "    return split_list_by_parts(sorted_anchors,len(strides))\n",
    "\n",
    "def split_list_by_parts(list_,split_parts):\n",
    "    split_len = int(len(list_)/split_parts)\n",
    "    temp=[torch.from_numpy(list_[i:i+split_len]).float()\\\n",
    "          for i in range(0, len(list_), split_len)]\n",
    "    return temp    \n",
    "res = generate_shaped_all_map_anchors(shapes, strides)\n",
    "\n",
    "print(type(res),len(res),res)"
   ]
  },
  {
   "cell_type": "code",
   "execution_count": 24,
   "metadata": {},
   "outputs": [
    {
     "name": "stdout",
     "output_type": "stream",
     "text": [
      "[[1 1 1]\n",
      " [1 1 1]\n",
      " [1 1 1]\n",
      " [1 1 1]\n",
      " [1 1 1]] (5, 3)\n"
     ]
    }
   ],
   "source": [
    "import numpy as np\n",
    "import torch\n",
    "a = np.array([[1]*3]*5)\n",
    "print(a, a.shape)\n",
    "# b = torch.tensor([[2]*4]*3)\n",
    "# print(b.shape,b)"
   ]
  },
  {
   "cell_type": "code",
   "execution_count": null,
   "metadata": {},
   "outputs": [],
   "source": [
    "<class 'torch.Tensor'> tensor([[ 3.3713,  6.8594, 12.6287,  9.1406],\n",
    "        [-4.9586, -3.1149, 20.9586, 19.1149],\n",
    "        [ 6.6729,  5.6836,  9.3271, 10.3164],\n",
    "        [ 3.0298, -2.9375, 12.9702, 18.9375],\n",
    "        [ 0.0241,  4.1278, 15.9759, 11.8722]], dtype=torch.float64)"
   ]
  },
  {
   "cell_type": "code",
   "execution_count": 19,
   "metadata": {},
   "outputs": [
    {
     "name": "stdout",
     "output_type": "stream",
     "text": [
      "[[5, 0], [1, 4], [2, 3], [1, 9]]\n",
      "[[2, 3], [1, 4], [1, 9], [5, 0]]\n"
     ]
    }
   ],
   "source": [
    "L = [[2,3],[1,4],[1,9],[5,0]]\n",
    "sL = sorted(L, key=lambda x:x[0]*x[1])\n",
    "print(sL)\n",
    "print(L)"
   ]
  },
  {
   "cell_type": "code",
   "execution_count": 73,
   "metadata": {},
   "outputs": [
    {
     "name": "stdout",
     "output_type": "stream",
     "text": [
      "30\n"
     ]
    }
   ],
   "source": [
    "a = [[  -4.9362,   -5.8510,    8.9361,    9.8510],\n",
    "        [ -10.0000,  -10.7097,   14.0000,   14.7097],\n",
    "        [ -17.3963,   -8.6963,   21.3963,   12.6963],\n",
    "        [  -8.6666,  -17.6793,   12.6666,   21.6793],\n",
    "        [ -10.1165,  -25.5679,   14.1165,   29.5679],\n",
    "        [ -27.1194,   -9.8230,   31.1194,   13.8230],\n",
    "        [ -17.5466,  -18.2182,   21.5466,   22.2182],\n",
    "        [ -11.7632,  -35.4473,   15.7632,   39.4473],\n",
    "        [ -42.0480,  -10.5479,   46.0480,   14.5479],\n",
    "        [  -8.8889,  -52.4286,   12.8889,   56.4286],\n",
    "        [ -26.0139,  -20.6840,   30.0139,   24.6840],\n",
    "        [ -18.9161,  -28.8226,   22.9161,   32.8226],\n",
    "        [ -61.5979,  -12.0435,   65.5979,   16.0435],\n",
    "        [ -37.1737,  -21.1210,   41.1737,   25.1210],\n",
    "        [  -9.9594,  -74.6892,   13.9594,   78.6892],\n",
    "        [ -29.0972,  -29.4398,   33.0972,   33.4398],\n",
    "        [ -22.5882,  -39.1353,   26.5882,   43.1353],\n",
    "        [ -21.9571,  -49.7429,   25.9571,   53.7429],\n",
    "        [ -81.0612,  -13.1939,   85.0612,   17.1939],\n",
    "        [ -49.9754,  -23.0819,   53.9754,   27.0819],\n",
    "        [ -11.9750,  -94.8500,   15.9750,   98.8500],\n",
    "        [ -40.9771,  -32.0000,   44.9771,   36.0000],\n",
    "        [ -33.4417,  -39.8787,   37.4417,   43.8787],\n",
    "        [ -23.8666,  -63.6583,   27.8666,   67.6583],\n",
    "        [ -70.0179,  -25.3482,   74.0179,   29.3482],\n",
    "        [ -33.5776,  -53.5690,   37.5776,   57.5690],\n",
    "        [ -54.7125,  -34.5062,   58.7125,   38.5062],\n",
    "        [ -43.8835,  -43.3562,   47.8835,   47.3562],\n",
    "        [-102.7954,  -18.2500,  106.7954,   22.2500],\n",
    "        [ -24.9125,  -82.6875,   28.9125,   86.6875]]\n",
    "print(len(a))"
   ]
  },
  {
   "cell_type": "code",
   "execution_count": 7,
   "metadata": {},
   "outputs": [
    {
     "name": "stdout",
     "output_type": "stream",
     "text": [
      "['__background', 'b&d', 'crack', 'curl', 'fake_crack', 'missing_material', 'missing_tbc', 'nick', 'o&d', 'worn'] k\n"
     ]
    }
   ],
   "source": [
    "SHOW2CLASS_ON = False\n",
    "class test(object):\n",
    "    CATEGORIES = [   \n",
    "        \"__background\",     \n",
    "        'b&d',\n",
    "        'crack',\n",
    "        'curl',\n",
    "        'fake_crack',\n",
    "        'missing_material',\n",
    "        'missing_tbc',\n",
    "        'nick',\n",
    "        'o&d',\n",
    "        'worn',\n",
    "    ] if not SHOW2CLASS_ON else [\"__background\", 'damage']\n",
    "    def __init__(self,ba):\n",
    "        self.ba = ba\n",
    "        print(self.CATEGORIES,'k')\n",
    "a = test(3)"
   ]
  },
  {
   "cell_type": "code",
   "execution_count": 9,
   "metadata": {},
   "outputs": [
    {
     "ename": "TypeError",
     "evalue": "type.__new__() argument 1 must be str, not int",
     "output_type": "error",
     "traceback": [
      "\u001b[0;31m---------------------------------------------------------------------------\u001b[0m",
      "\u001b[0;31mTypeError\u001b[0m                                 Traceback (most recent call last)",
      "\u001b[0;32m<ipython-input-9-5c502839912b>\u001b[0m in \u001b[0;36m<module>\u001b[0;34m\u001b[0m\n\u001b[1;32m      1\u001b[0m \u001b[0ma\u001b[0m \u001b[0;34m=\u001b[0m \u001b[0;36m1\u001b[0m\u001b[0;34m;\u001b[0m\u001b[0mb\u001b[0m\u001b[0;34m=\u001b[0m\u001b[0;34m[\u001b[0m\u001b[0;34m]\u001b[0m\u001b[0;34m;\u001b[0m\u001b[0mc\u001b[0m \u001b[0;34m=\u001b[0m \u001b[0;34m{\u001b[0m\u001b[0;34m}\u001b[0m\u001b[0;34m\u001b[0m\u001b[0;34m\u001b[0m\u001b[0m\n\u001b[0;32m----> 2\u001b[0;31m \u001b[0mprint\u001b[0m\u001b[0;34m(\u001b[0m\u001b[0mtype\u001b[0m\u001b[0;34m(\u001b[0m\u001b[0ma\u001b[0m\u001b[0;34m,\u001b[0m\u001b[0mb\u001b[0m\u001b[0;34m,\u001b[0m\u001b[0mc\u001b[0m\u001b[0;34m)\u001b[0m\u001b[0;34m)\u001b[0m\u001b[0;34m\u001b[0m\u001b[0;34m\u001b[0m\u001b[0m\n\u001b[0m",
      "\u001b[0;31mTypeError\u001b[0m: type.__new__() argument 1 must be str, not int"
     ]
    }
   ],
   "source": [
    "a = 1;b=[];c = {}\n",
    "print(type(a,b,c))"
   ]
  },
  {
   "cell_type": "code",
   "execution_count": 13,
   "metadata": {},
   "outputs": [
    {
     "name": "stdout",
     "output_type": "stream",
     "text": [
      "tensor([[-12.2024, -11.4666,  16.2024,  15.4666],\n",
      "        [-18.8841, -26.2711,  22.8841,  30.2711]]) tensor([[1., 1., 1., 1.],\n",
      "        [1., 1., 1., 1.]])\n",
      "tensor([[-12.2024, -11.4666,  16.2024,  15.4666,   1.0000,   1.0000,   1.0000,\n",
      "           1.0000],\n",
      "        [-18.8841, -26.2711,  22.8841,  30.2711,   1.0000,   1.0000,   1.0000,\n",
      "           1.0000]])\n"
     ]
    }
   ],
   "source": [
    "a = torch.tensor([[-12.2024, -11.4666,  16.2024,  15.4666],[-18.8841, -26.2711,  22.8841,  30.2711]])\n",
    "b = torch.ones(2,4)\n",
    "print(a,b)\n",
    "c = torch.cat((a,b),1)\n",
    "print(c)"
   ]
  },
  {
   "cell_type": "code",
   "execution_count": 19,
   "metadata": {},
   "outputs": [
    {
     "name": "stdout",
     "output_type": "stream",
     "text": [
      "150\n"
     ]
    }
   ],
   "source": [
    "a = [[70.8835, 83.7573], [362.1875, 432.375], [414.5294, 91.9412], [143.2222, 142.9556], [215.2143, 332.3571], [732.75, 465.0], [295.96, 128.12], [39.0932, 40.4364], [200.7333, 425.2667], [70.1944, 229.6389], [177.1607, 70.0536], [427.7333, 237.0667], [182.4444, 234.3333], [548.8, 449.4667], [724.3333, 234.0], [180.75, 563.75], [109.75, 299.65], [365.2222, 570.0], [74.2222, 155.3778], [103.9508, 50.1639], [296.1667, 283.7222], [612.3, 239.9], [323.0, 201.75], [279.2, 41.2], [78.5, 471.2], [204.4706, 118.0882], [113.425, 73.0125], [78.3474, 46.2421], [474.3636, 324.2727], [151.4167, 222.9583], [545.7143, 556.8571], [71.1552, 111.1379], [43.381, 301.8095], [114.3878, 133.7755], [38.7926, 21.3926], [286.6364, 404.1818], [209.5909, 40.5], [339.125, 108.4583], [589.5833, 111.4167], [211.5, 160.5556], [251.75, 228.7917], [394.7, 316.55], [27.5263, 74.8947], [23.9189, 153.3784], [310.3636, 483.5455], [496.1667, 569.75], [707.0, 371.2], [229.4348, 295.4348], [63.5714, 563.0], [24.0, 25.4194], [121.5, 235.1071], [535.4615, 205.1538], [279.8, 184.12], [404.5, 47.7778], [58.2389, 23.646], [91.7671, 90.7123], [474.3462, 84.6538], [146.7619, 185.0952], [255.4, 566.7], [129.3571, 336.7143], [407.25, 163.75], [127.1957, 28.087], [640.8333, 480.0], [137.1918, 119.6712], [78.5455, 274.5], [334.1429, 273.0], [708.3846, 565.3846], [440.8333, 464.1667], [41.8323, 61.6452], [101.1333, 161.4167], [286.5714, 347.2381], [253.4571, 111.0571], [327.5, 163.25], [543.3, 364.3], [21.7778, 108.8571], [183.7, 286.45], [85.9541, 68.0], [182.375, 365.625], [107.3333, 404.5833], [176.6829, 130.4878], [241.3636, 375.2273], [110.3333, 189.2821], [422.0476, 380.2381], [736.6667, 149.6667], [265.0, 76.0], [62.1944, 62.8796], [739.3333, 318.0], [21.3333, 39.3585], [373.0526, 105.0], [170.0833, 493.5], [144.0357, 54.6964], [88.0959, 25.0959], [522.7692, 122.1538], [66.6852, 195.0], [427.8, 561.5], [342.2273, 368.2273], [389.9375, 236.3125], [138.209, 90.3433], [634.7143, 407.2857], [168.275, 100.925], [333.7222, 39.7222], [333.7391, 322.6522], [168.4865, 195.9189], [124.8182, 566.6364], [513.4667, 315.3333], [51.7333, 131.3167], [489.7273, 427.9091], [237.2632, 434.8421], [261.8, 504.3], [213.2414, 255.6897], [215.4571, 83.7143], [230.6304, 197.6522], [483.2727, 244.9091], [139.2703, 269.1892], [163.2941, 322.7059], [58.2222, 374.8889], [27.95, 193.7], [56.0278, 45.3681], [292.28, 222.6], [89.2105, 125.6579], [660.9, 152.7], [346.4667, 223.7333], [318.75, 564.5625], [233.0, 140.1852], [134.8974, 164.7436], [241.4138, 48.931], [498.375, 510.0], [314.3182, 73.7273], [462.7143, 171.7143], [53.825, 169.375], [47.9143, 103.4857], [24.233, 55.1359], [422.5714, 283.3571], [265.1579, 311.5789], [171.973, 160.7568], [603.4286, 541.2857], [111.875, 102.7], [102.4063, 214.7188], [362.5294, 174.7647], [49.1765, 82.2706], [66.9231, 331.9231], [152.1765, 371.4118], [146.4, 445.3333], [42.0588, 248.1765], [347.7857, 510.2857], [13.8723, 15.7021], [261.3182, 260.5909], [166.1224, 30.3878], [260.0645, 159.0645], [194.7188, 195.5313]]\n",
    "print(len(a))\n",
    "# print(a[[0],[1],[2]])"
   ]
  },
  {
   "cell_type": "code",
   "execution_count": 23,
   "metadata": {},
   "outputs": [
    {
     "name": "stderr",
     "output_type": "stream",
     "text": [
      "labelme json transfering: 100%|██████████| 10/10 [00:01<00:00,  9.94 json/s]\n",
      "labelme json transfering: 100%|██████████| 10/10 [00:01<00:00,  9.93 json/s]\n"
     ]
    }
   ],
   "source": [
    "import time\n",
    "from tqdm import tqdm\n",
    "def test():\n",
    "    for _,i in enumerate(tqdm(range(10), desc='labelme json transfering', unit=' json')):\n",
    "        time.sleep(0.1)\n",
    "test()\n",
    "time.sleep(0.5)\n",
    "test()"
   ]
  },
  {
   "cell_type": "code",
   "execution_count": 24,
   "metadata": {},
   "outputs": [
    {
     "name": "stdout",
     "output_type": "stream",
     "text": [
      "['1q', '1w', '1e', '2q', '2w', '2e', '3q', '3w', '3e']\n"
     ]
    }
   ],
   "source": [
    "a = [1,2,3]\n",
    "b = ['q','w','e']\n",
    "c = [str(A)+str(B) for A in a for B in b]\n",
    "print(c)"
   ]
  },
  {
   "cell_type": "code",
   "execution_count": 27,
   "metadata": {},
   "outputs": [
    {
     "name": "stdout",
     "output_type": "stream",
     "text": [
      "0.5\n"
     ]
    }
   ],
   "source": [
    "t = 0.5\n",
    "print(min([t,1-1e-10]))"
   ]
  },
  {
   "cell_type": "code",
   "execution_count": 30,
   "metadata": {},
   "outputs": [
    {
     "name": "stdout",
     "output_type": "stream",
     "text": [
      "0.9999999999\n"
     ]
    }
   ],
   "source": [
    "print(1-1e-10)"
   ]
  },
  {
   "cell_type": "code",
   "execution_count": 15,
   "metadata": {},
   "outputs": [
    {
     "name": "stdout",
     "output_type": "stream",
     "text": [
      "[[(0.5, 0.5), (100.5, 0.5), (100.5, 100.5), (0.5, 100.5)], [(50.5, 0.5), (100.5, 50.5), (50.5, 100.5), (0.5, 50.5)], [(0.1, 0.1), (0.2, 0.2), (0.3, 0.7)]]\n"
     ]
    }
   ],
   "source": [
    "A = [\n",
    "    [[(0.5, 0.5), (100.5, 0.5), (100.5, 100.5), (0.5, 100.5)],[(50.5, 0.5), (100.5, 50.5), (50.5, 100.5), (0.5, 50.5)]],\n",
    "    [[(0.1,0.1),(0.2,0.2),(0.3,0.7)]],\n",
    "    []\n",
    "]\n",
    "_len_record = [len(l) for l in A] # polygons number in different classes\n",
    "_flatten_1layer = [ins for obj in A for ins in obj] # merge all polygons ignore classes\n",
    "print(_flatten_1layer)\n",
    "# do something on _flatten_1layer\n",
    "_recover_shape = [_flatten_1layer[sum(_len_record[:p]):sum(_len_record[:p])+n] for p,n in enumerate(_len_record)] # reconstrct input structure A\n",
    "# print(_recover_shape)\n"
   ]
  },
  {
   "cell_type": "code",
   "execution_count": 34,
   "metadata": {},
   "outputs": [
    {
     "name": "stdout",
     "output_type": "stream",
     "text": [
      "[[(0.2, 0.3), (102.5, 104.5)], [(0.5, 0.6), (105.5, 106.5)]]\n",
      "[[(0.1, 0.1), (0.3, 0.7)]]\n",
      "[]\n",
      "[[0.2, 0.3, 102.5, 104.5], [0.5, 0.6, 105.5, 106.5], [0.1, 0.1, 0.3, 0.7]] \n",
      " [334.36926, 320.4509, 719.9945, 485.85504]\n"
     ]
    }
   ],
   "source": [
    "B = [\n",
    "        [[(0.5, 0.4), (101.5, 0.3), (102.5, 103.5), (0.2, 104.5)], [(50.5, 0.6), (105.5, 51.5), (52.5, 106.5), (0.5, 53.5)]],\n",
    "        [[(0.1, 0.1), (0.2, 0.2), (0.3, 0.7)]],\n",
    "        []\n",
    "]\n",
    "A = [[334.36926, 348.92972], # polygon.exterior\n",
    "        [355.3883 , 369.72214],\n",
    "        [398.93652, 387.35443],\n",
    "        [406.44824, 404.43237],\n",
    "        [464.65027, 480.2449 ],\n",
    "        [490.0619 , 485.85504],\n",
    "        [507.44006, 485.6097 ],\n",
    "        [518.27673, 481.01935],\n",
    "        [606.93384, 454.96744],\n",
    "        [656.1801 , 454.55664],\n",
    "        [694.211  , 450.8019 ],\n",
    "        [717.9035 , 451.41675],\n",
    "        [719.9945 , 441.95062],\n",
    "        [605.1033 , 400.35806],\n",
    "        [485.01578, 367.29755],\n",
    "        [336.7374 , 320.4509 ]]\n",
    "for obj in B:\n",
    "    _obj = []\n",
    "    for ins in obj:\n",
    "        _ins = []\n",
    "        _ins.append((min([c[0] for c in ins]),min([c[1] for c in ins])))\n",
    "        _ins.append((max([c[0] for c in ins]),max([c[1] for c in ins])))\n",
    "        _obj.append(_ins)\n",
    "    print(_obj)\n",
    "segs2bbox = [[min([c[0] for c in ins]),min([c[1] for c in ins]),max([c[0] for c in ins]),max([c[1] for c in ins])]\n",
    "             for obj in B for ins in obj \n",
    "            ]\n",
    "ins = A\n",
    "poly2bbox = [min([c[0] for c in ins]),min([c[1] for c in ins]),max([c[0] for c in ins]),max([c[1] for c in ins])]\n",
    "print(segs2bbox,'\\n',poly2bbox)"
   ]
  },
  {
   "cell_type": "code",
   "execution_count": 28,
   "metadata": {},
   "outputs": [
    {
     "name": "stdout",
     "output_type": "stream",
     "text": [
      "[[0, 1], [1, 2], [2, 7], [3, 8], [4, 9]]\n"
     ]
    }
   ],
   "source": [
    "a = [1,2,7,8,9]\n",
    "b = [[i,ia] for i,ia in enumerate(a)]\n",
    "print(b)\n"
   ]
  },
  {
   "cell_type": "code",
   "execution_count": 9,
   "metadata": {},
   "outputs": [
    {
     "name": "stdout",
     "output_type": "stream",
     "text": [
      "[1.0, 2.0, 3.0, 4.0]\n"
     ]
    }
   ],
   "source": [
    "a= list(map(float,[1,2,3,4]))\n",
    "print(a)"
   ]
  },
  {
   "cell_type": "code",
   "execution_count": 1,
   "metadata": {},
   "outputs": [
    {
     "name": "stdout",
     "output_type": "stream",
     "text": [
      "[0.5, 0.4, 101.5, 0.3, 102.5, 103.5, 0.2, 104.5] [50.5, 0.6, 105.5, 51.5, 52.5, 106.5, 0.5, 53.5]\n"
     ]
    }
   ],
   "source": [
    "import numpy as np\n",
    "C = [(0.5, 0.4), (101.5, 0.3), (102.5, 103.5), (0.2, 104.5)]\n",
    "D = [(50.5, 0.6), (105.5, 51.5), (52.5, 106.5), (0.5, 53.5)]\n",
    "a = list(np.asarray(C).flatten())\n",
    "b = list(np.asarray(D).flatten())\n",
    "print(a,b)"
   ]
  },
  {
   "cell_type": "code",
   "execution_count": 31,
   "metadata": {},
   "outputs": [
    {
     "name": "stdout",
     "output_type": "stream",
     "text": [
      "torch.Size([3, 4])\n",
      "vals: tensor([0.9490, 0.8900, 0.2530, 0.6000])\n",
      "inds: tensor([0, 0, 1, 2])\n",
      "tensor([0, 0, 1, 2])\n",
      "tensor([-2, -2,  1,  2])\n",
      "tensor([0, 0, 1, 2])\n"
     ]
    }
   ],
   "source": [
    "import torch\n",
    "boxes = [a,b]\n",
    "c = torch.as_tensor(boxes).reshape(-1, 4)\n",
    "labels = torch.as_tensor([1,0,2,3])\n",
    "ind = torch.nonzero(labels > 0).squeeze(1)\n",
    "# print(ind)\n",
    "# print(c)\n",
    "# print(c.squeeze(-1))\n",
    "# t = torch.tensor([ 49., 290., 144., 239., 231., 171., 253., 152., 254., 159., 226., 186.,\n",
    "#         182., 222., 135., 257.,  88., 278.,  38., 306.,  38., 301.])\n",
    "# 三个gt，四个prediction\n",
    "#                   dr0   dr1   dr2   dr3\n",
    "t = torch.tensor([[.949, .890, .144, .139], #gt 0\n",
    "                  [.231, .01 , .253, .152], #gt 1\n",
    "                  [  .3,   .2,   .1, .600]]) #gt 2\n",
    "vals,inds = t.max(dim=0)\n",
    "print(t.shape)\n",
    "print('vals:',vals)\n",
    "print('inds:',inds)\n",
    "# temp = vals > 0.7\n",
    "# print('vals > :',temp)\n",
    "print(inds)\n",
    "inds[temp] = -2\n",
    "print(inds)\n",
    "print(inds.clamp(min=0)) # 三个gt，四个prediction"
   ]
  },
  {
   "cell_type": "code",
   "execution_count": 18,
   "metadata": {},
   "outputs": [
    {
     "data": {
      "text/plain": [
       "22"
      ]
     },
     "execution_count": 18,
     "metadata": {},
     "output_type": "execute_result"
    }
   ],
   "source": [
    "a = [ 49., 290., 144., 239., 231., 171., 253., 152., 254., 159., 226., 186.,\n",
    "        182., 222., 135., 257.,  88., 278.,  38., 306.,  38., 301.]\n",
    "len(a)\n"
   ]
  },
  {
   "cell_type": "code",
   "execution_count": 14,
   "metadata": {},
   "outputs": [
    {
     "name": "stdout",
     "output_type": "stream",
     "text": [
      "1\n"
     ]
    }
   ],
   "source": [
    "for i in range(1,2):\n",
    "    print(i)"
   ]
  },
  {
   "cell_type": "code",
   "execution_count": 36,
   "metadata": {},
   "outputs": [
    {
     "data": {
      "text/plain": [
       "959"
      ]
     },
     "execution_count": 36,
     "metadata": {},
     "output_type": "execute_result"
    }
   ],
   "source": [
    "a = [0, 0, 0, 0, 0, 0, 0, 0, 0, 0, 0, 0, 0, 0, 0, 0, 0, 0, 0, 0, 0, 0, 0, 0,\n",
    "        0, 0, 0, 0, 0, 0, 0, 0, 0, 0, 0, 0, 0, 0, 0, 0, 0, 0, 0, 0, 0, 0, 0, 0,\n",
    "        0, 0, 0, 0, 0, 0, 0, 0, 0, 0, 0, 0, 0, 0, 0, 0, 0, 0, 0, 0, 0, 0, 0, 0,\n",
    "        0, 0, 0, 0, 0, 0, 0, 0, 0, 0, 0, 0, 0, 0, 0, 0, 0, 0, 0, 0, 0, 0, 0, 0,\n",
    "        0, 0, 0, 0, 0, 0, 0, 0, 0, 0, 0, 0, 0, 0, 0, 0, 0, 0, 0, 0, 0, 0, 0, 0,\n",
    "        0, 0, 0, 0, 0, 0, 0, 0, 0, 0, 0, 0, 0, 0, 0, 0, 0, 0, 0, 0, 0, 0, 0, 0,\n",
    "        0, 0, 0, 0, 0, 0, 0, 0, 0, 0, 0, 0, 0, 0, 0, 0, 0, 0, 0, 0, 0, 0, 0, 0,\n",
    "        0, 0, 0, 0, 0, 0, 0, 0, 0, 0, 0, 0, 0, 0, 0, 0, 0, 0, 0, 0, 0, 0, 0, 0,\n",
    "        0, 0, 0, 0, 0, 0, 0, 0, 0, 0, 0, 0, 0, 0, 0, 0, 0, 0, 0, 0, 0, 0, 0, 0,\n",
    "        0, 0, 0, 0, 0, 0, 0, 0, 0, 0, 0, 0, 0, 0, 0, 0, 0, 0, 0, 0, 0, 0, 0, 0,\n",
    "        0, 0, 0, 0, 0, 0, 0, 0, 0, 0, 0, 0, 0, 0, 0, 0, 0, 0, 0, 0, 0, 0, 0, 0,\n",
    "        0, 0, 0, 0, 0, 0, 0, 0, 0, 0, 0, 0, 0, 0, 0, 0, 0, 0, 0, 0, 0, 0, 0, 0,\n",
    "        0, 0, 0, 0, 0, 0, 0, 0, 0, 0, 0, 0, 0, 0, 0, 0, 0, 0, 0, 0, 0, 0, 0, 0,\n",
    "        0, 0, 0, 0, 0, 0, 0, 0, 0, 0, 0, 0, 0, 0, 0, 0, 0, 0, 0, 0, 0, 0, 0, 0,\n",
    "        0, 0, 0, 0, 0, 0, 0, 0, 0, 0, 0, 0, 0, 0, 0, 0, 0, 0, 0, 0, 0, 0, 0, 0,\n",
    "        0, 0, 0, 0, 0, 0, 0, 0, 0, 0, 0, 0, 0, 0, 0, 0, 0, 0, 0, 0, 0, 0, 0, 0,\n",
    "        0, 0, 0, 0, 0, 0, 0, 0, 0, 0, 0, 0, 0, 0, 0, 0, 0, 0, 0, 0, 0, 0, 0, 0,\n",
    "        0, 0, 0, 0, 0, 0, 0, 0, 0, 0, 0, 0, 0, 0, 0, 0, 0, 0, 0, 0, 0, 0, 0, 0,\n",
    "        0, 0, 0, 0, 0, 0, 0, 0, 0, 0, 0, 0, 0, 0, 0, 0, 0, 0, 0, 0, 0, 0, 0, 0,\n",
    "        0, 0, 0, 0, 0, 0, 0, 0, 0, 0, 0, 0, 0, 0, 0, 0, 0, 0, 0, 0, 0, 0, 0, 0,\n",
    "        0, 0, 0, 0, 0, 0, 0, 0, 0, 0, 0, 0, 0, 0, 0, 0, 0, 0, 0, 0, 0, 0, 0, 0,\n",
    "        0, 0, 0, 0, 0, 0, 0, 0, 0, 0, 0, 0, 0, 0, 0, 0, 0, 0, 0, 0, 0, 0, 0, 0,\n",
    "        0, 0, 0, 0, 0, 0, 0, 0, 0, 0, 0, 0, 0, 0, 0, 0, 0, 0, 0, 0, 0, 0, 0, 0,\n",
    "        0, 0, 0, 0, 0, 0, 0, 0, 0, 0, 0, 0, 0, 0, 0, 0, 0, 0, 0, 0, 0, 0, 0, 0,\n",
    "        0, 0, 0, 0, 0, 0, 0, 0, 0, 0, 0, 0, 0, 0, 0, 0, 0, 0, 0, 0, 0, 0, 0, 0,\n",
    "        0, 0, 0, 0, 0, 0, 0, 0, 0, 0, 0, 0, 0, 0, 0, 0, 0, 0, 0, 0, 0, 0, 0, 0,\n",
    "        0, 0, 0, 0, 0, 0, 0, 0, 0, 0, 0, 0, 0, 0, 0, 0, 0, 0, 0, 0, 0, 0, 0, 0,\n",
    "        0, 0, 0, 0, 0, 0, 0, 0, 0, 0, 0, 0, 0, 0, 0, 0, 0, 0, 0, 0, 0, 0, 0, 0,\n",
    "        0, 0, 0, 0, 0, 0, 0, 0, 0, 0, 0, 0, 0, 0, 0, 0, 0, 0, 0, 0, 0, 0, 0, 0,\n",
    "        0, 0, 0, 0, 0, 0, 0, 0, 0, 0, 0, 0, 0, 0, 0, 0, 0, 0, 0, 0, 0, 0, 0, 0,\n",
    "        0, 0, 0, 0, 0, 0, 0, 0, 0, 0, 0, 0, 0, 0, 0, 0, 0, 0, 0, 0, 0, 0, 0, 0,\n",
    "        0, 0, 0, 0, 0, 0, 0, 0, 0, 0, 0, 0, 0, 0, 0, 0, 0, 0, 0, 0, 0, 0, 0, 0,\n",
    "        0, 0, 0, 0, 0, 0, 0, 0, 0, 0, 0, 0, 0, 0, 0, 0, 0, 0, 0, 0, 0, 0, 0, 0,\n",
    "        0, 0, 0, 0, 0, 0, 0, 0, 0, 0, 0, 0, 0, 0, 0, 0, 0, 0, 0, 0, 0, 0, 0, 0,\n",
    "        0, 0, 0, 0, 0, 0, 0, 0, 0, 0, 0, 0, 0, 0, 0, 0, 0, 0, 0, 0, 0, 0, 0, 0,\n",
    "        0, 0, 0, 0, 0, 0, 0, 0, 0, 0, 0, 0, 0, 0, 0, 0, 0, 0, 0, 0, 0, 0, 0, 0,\n",
    "        0, 0, 0, 0, 0, 0, 0, 0, 0, 0, 0, 0, 0, 0, 0, 0, 0, 0, 0, 0, 0, 0, 0, 0,\n",
    "        0, 0, 0, 0, 0, 0, 0, 0, 0, 0, 0, 0, 0, 0, 0, 0, 0, 0, 0, 0, 0, 0, 0, 0,\n",
    "        0, 0, 0, 0, 0, 0, 0, 0, 0, 0, 0, 0, 0, 0, 1, 0, 0, 0, 0, 0, 0, 0, 0, 0,\n",
    "        0, 0, 0, 0, 0, 0, 0, 0, 0, 0, 0, 0, 0, 0, 0, 1, 1, 1, 1, 1, 1, 1, 1]\n",
    "len(a)"
   ]
  },
  {
   "cell_type": "code",
   "execution_count": 40,
   "metadata": {},
   "outputs": [
    {
     "name": "stdout",
     "output_type": "stream",
     "text": [
      "False True\n"
     ]
    }
   ],
   "source": [
    "import torch\n",
    "x = torch.tensor([1.], requires_grad=True)  \n",
    "with torch.no_grad():  \n",
    "    y = x * 2\n",
    "\n",
    "print(y.requires_grad,x.requires_grad)"
   ]
  },
  {
   "cell_type": "code",
   "execution_count": 42,
   "metadata": {},
   "outputs": [
    {
     "ename": "ImportError",
     "evalue": "/home/cver/Desktop/HR/maskrcnn/maskrcnn-benchmark/maskrcnn_benchmark/_C.cpython-37m-x86_64-linux-gnu.so: undefined symbol: _ZN6caffe28TypeMeta21_typeMetaDataInstanceIN3c108BFloat16EEEPKNS_6detail12TypeMetaDataEv",
     "output_type": "error",
     "traceback": [
      "\u001b[0;31m---------------------------------------------------------------------------\u001b[0m",
      "\u001b[0;31mImportError\u001b[0m                               Traceback (most recent call last)",
      "\u001b[0;32m<ipython-input-42-e0c75fb7b50c>\u001b[0m in \u001b[0;36m<module>\u001b[0;34m\u001b[0m\n\u001b[1;32m      2\u001b[0m \u001b[0msys\u001b[0m\u001b[0;34m.\u001b[0m\u001b[0mpath\u001b[0m\u001b[0;34m.\u001b[0m\u001b[0mappend\u001b[0m\u001b[0;34m(\u001b[0m\u001b[0;34m'/home/cver/docker-data/maskrcnn-lcx/cxtest2/maskrcnn_benchmark'\u001b[0m\u001b[0;34m)\u001b[0m\u001b[0;34m\u001b[0m\u001b[0;34m\u001b[0m\u001b[0m\n\u001b[1;32m      3\u001b[0m \u001b[0;32mfrom\u001b[0m \u001b[0mmaskrcnn_benchmark\u001b[0m\u001b[0;34m.\u001b[0m\u001b[0mconfig\u001b[0m \u001b[0;32mimport\u001b[0m \u001b[0mcfg\u001b[0m\u001b[0;34m\u001b[0m\u001b[0;34m\u001b[0m\u001b[0m\n\u001b[0;32m----> 4\u001b[0;31m \u001b[0;32mfrom\u001b[0m \u001b[0mmaskrcnn_benchmark\u001b[0m\u001b[0;34m.\u001b[0m\u001b[0mmodeling\u001b[0m\u001b[0;34m.\u001b[0m\u001b[0mroi_heads\u001b[0m\u001b[0;34m.\u001b[0m\u001b[0mbox_head\u001b[0m\u001b[0;34m.\u001b[0m\u001b[0mbox_head\u001b[0m \u001b[0;32mimport\u001b[0m \u001b[0mROIBoxHead\u001b[0m\u001b[0;34m\u001b[0m\u001b[0;34m\u001b[0m\u001b[0m\n\u001b[0m\u001b[1;32m      5\u001b[0m \u001b[0;34m\u001b[0m\u001b[0m\n\u001b[1;32m      6\u001b[0m \u001b[0ma\u001b[0m \u001b[0;34m=\u001b[0m \u001b[0mROIBoxHead\u001b[0m\u001b[0;34m(\u001b[0m\u001b[0mcfg\u001b[0m\u001b[0;34m,\u001b[0m\u001b[0;36m64\u001b[0m\u001b[0;34m)\u001b[0m\u001b[0;34m\u001b[0m\u001b[0;34m\u001b[0m\u001b[0m\n",
      "\u001b[0;32m~/Desktop/HR/maskrcnn/maskrcnn-benchmark/maskrcnn_benchmark/modeling/roi_heads/box_head/box_head.py\u001b[0m in \u001b[0;36m<module>\u001b[0;34m\u001b[0m\n\u001b[1;32m      3\u001b[0m \u001b[0;32mfrom\u001b[0m \u001b[0mtorch\u001b[0m \u001b[0;32mimport\u001b[0m \u001b[0mnn\u001b[0m\u001b[0;34m\u001b[0m\u001b[0;34m\u001b[0m\u001b[0m\n\u001b[1;32m      4\u001b[0m \u001b[0;34m\u001b[0m\u001b[0m\n\u001b[0;32m----> 5\u001b[0;31m \u001b[0;32mfrom\u001b[0m \u001b[0;34m.\u001b[0m\u001b[0mroi_box_feature_extractors\u001b[0m \u001b[0;32mimport\u001b[0m \u001b[0mmake_roi_box_feature_extractor\u001b[0m\u001b[0;34m\u001b[0m\u001b[0;34m\u001b[0m\u001b[0m\n\u001b[0m\u001b[1;32m      6\u001b[0m \u001b[0;32mfrom\u001b[0m \u001b[0;34m.\u001b[0m\u001b[0mroi_box_predictors\u001b[0m \u001b[0;32mimport\u001b[0m \u001b[0mmake_roi_box_predictor\u001b[0m\u001b[0;34m\u001b[0m\u001b[0;34m\u001b[0m\u001b[0m\n\u001b[1;32m      7\u001b[0m \u001b[0;32mfrom\u001b[0m \u001b[0;34m.\u001b[0m\u001b[0minference\u001b[0m \u001b[0;32mimport\u001b[0m \u001b[0mmake_roi_box_post_processor\u001b[0m\u001b[0;34m\u001b[0m\u001b[0;34m\u001b[0m\u001b[0m\n",
      "\u001b[0;32m~/Desktop/HR/maskrcnn/maskrcnn-benchmark/maskrcnn_benchmark/modeling/roi_heads/box_head/roi_box_feature_extractors.py\u001b[0m in \u001b[0;36m<module>\u001b[0;34m\u001b[0m\n\u001b[1;32m      5\u001b[0m \u001b[0;34m\u001b[0m\u001b[0m\n\u001b[1;32m      6\u001b[0m \u001b[0;32mfrom\u001b[0m \u001b[0mmaskrcnn_benchmark\u001b[0m\u001b[0;34m.\u001b[0m\u001b[0mmodeling\u001b[0m \u001b[0;32mimport\u001b[0m \u001b[0mregistry\u001b[0m\u001b[0;34m\u001b[0m\u001b[0;34m\u001b[0m\u001b[0m\n\u001b[0;32m----> 7\u001b[0;31m \u001b[0;32mfrom\u001b[0m \u001b[0mmaskrcnn_benchmark\u001b[0m\u001b[0;34m.\u001b[0m\u001b[0mmodeling\u001b[0m\u001b[0;34m.\u001b[0m\u001b[0mbackbone\u001b[0m \u001b[0;32mimport\u001b[0m \u001b[0mresnet\u001b[0m\u001b[0;34m\u001b[0m\u001b[0;34m\u001b[0m\u001b[0m\n\u001b[0m\u001b[1;32m      8\u001b[0m \u001b[0;32mfrom\u001b[0m \u001b[0mmaskrcnn_benchmark\u001b[0m\u001b[0;34m.\u001b[0m\u001b[0mmodeling\u001b[0m\u001b[0;34m.\u001b[0m\u001b[0mpoolers\u001b[0m \u001b[0;32mimport\u001b[0m \u001b[0mPooler\u001b[0m\u001b[0;34m\u001b[0m\u001b[0;34m\u001b[0m\u001b[0m\n\u001b[1;32m      9\u001b[0m \u001b[0;32mfrom\u001b[0m \u001b[0mmaskrcnn_benchmark\u001b[0m\u001b[0;34m.\u001b[0m\u001b[0mmodeling\u001b[0m\u001b[0;34m.\u001b[0m\u001b[0mmake_layers\u001b[0m \u001b[0;32mimport\u001b[0m \u001b[0mgroup_norm\u001b[0m\u001b[0;34m\u001b[0m\u001b[0;34m\u001b[0m\u001b[0m\n",
      "\u001b[0;32m~/Desktop/HR/maskrcnn/maskrcnn-benchmark/maskrcnn_benchmark/modeling/backbone/__init__.py\u001b[0m in \u001b[0;36m<module>\u001b[0;34m\u001b[0m\n\u001b[1;32m      1\u001b[0m \u001b[0;31m# Copyright (c) Facebook, Inc. and its affiliates. All Rights Reserved.\u001b[0m\u001b[0;34m\u001b[0m\u001b[0;34m\u001b[0m\u001b[0;34m\u001b[0m\u001b[0m\n\u001b[0;32m----> 2\u001b[0;31m \u001b[0;32mfrom\u001b[0m \u001b[0;34m.\u001b[0m\u001b[0mbackbone\u001b[0m \u001b[0;32mimport\u001b[0m \u001b[0mbuild_backbone\u001b[0m\u001b[0;34m\u001b[0m\u001b[0;34m\u001b[0m\u001b[0m\n\u001b[0m\u001b[1;32m      3\u001b[0m \u001b[0;32mfrom\u001b[0m \u001b[0;34m.\u001b[0m \u001b[0;32mimport\u001b[0m \u001b[0mfbnet\u001b[0m\u001b[0;34m\u001b[0m\u001b[0;34m\u001b[0m\u001b[0m\n",
      "\u001b[0;32m~/Desktop/HR/maskrcnn/maskrcnn-benchmark/maskrcnn_benchmark/modeling/backbone/backbone.py\u001b[0m in \u001b[0;36m<module>\u001b[0;34m\u001b[0m\n\u001b[1;32m      5\u001b[0m \u001b[0;34m\u001b[0m\u001b[0m\n\u001b[1;32m      6\u001b[0m \u001b[0;32mfrom\u001b[0m \u001b[0mmaskrcnn_benchmark\u001b[0m\u001b[0;34m.\u001b[0m\u001b[0mmodeling\u001b[0m \u001b[0;32mimport\u001b[0m \u001b[0mregistry\u001b[0m\u001b[0;34m\u001b[0m\u001b[0;34m\u001b[0m\u001b[0m\n\u001b[0;32m----> 7\u001b[0;31m \u001b[0;32mfrom\u001b[0m \u001b[0mmaskrcnn_benchmark\u001b[0m\u001b[0;34m.\u001b[0m\u001b[0mmodeling\u001b[0m\u001b[0;34m.\u001b[0m\u001b[0mmake_layers\u001b[0m \u001b[0;32mimport\u001b[0m \u001b[0mconv_with_kaiming_uniform\u001b[0m\u001b[0;34m\u001b[0m\u001b[0;34m\u001b[0m\u001b[0m\n\u001b[0m\u001b[1;32m      8\u001b[0m \u001b[0;32mfrom\u001b[0m \u001b[0;34m.\u001b[0m \u001b[0;32mimport\u001b[0m \u001b[0mfpn\u001b[0m \u001b[0;32mas\u001b[0m \u001b[0mfpn_module\u001b[0m\u001b[0;34m\u001b[0m\u001b[0;34m\u001b[0m\u001b[0m\n\u001b[1;32m      9\u001b[0m \u001b[0;32mfrom\u001b[0m \u001b[0;34m.\u001b[0m \u001b[0;32mimport\u001b[0m \u001b[0mresnet\u001b[0m\u001b[0;34m\u001b[0m\u001b[0;34m\u001b[0m\u001b[0m\n",
      "\u001b[0;32m~/Desktop/HR/maskrcnn/maskrcnn-benchmark/maskrcnn_benchmark/modeling/make_layers.py\u001b[0m in \u001b[0;36m<module>\u001b[0;34m\u001b[0m\n\u001b[1;32m      8\u001b[0m \u001b[0;32mfrom\u001b[0m \u001b[0mtorch\u001b[0m\u001b[0;34m.\u001b[0m\u001b[0mnn\u001b[0m \u001b[0;32mimport\u001b[0m \u001b[0mfunctional\u001b[0m \u001b[0;32mas\u001b[0m \u001b[0mF\u001b[0m\u001b[0;34m\u001b[0m\u001b[0;34m\u001b[0m\u001b[0m\n\u001b[1;32m      9\u001b[0m \u001b[0;32mfrom\u001b[0m \u001b[0mmaskrcnn_benchmark\u001b[0m\u001b[0;34m.\u001b[0m\u001b[0mconfig\u001b[0m \u001b[0;32mimport\u001b[0m \u001b[0mcfg\u001b[0m\u001b[0;34m\u001b[0m\u001b[0;34m\u001b[0m\u001b[0m\n\u001b[0;32m---> 10\u001b[0;31m \u001b[0;32mfrom\u001b[0m \u001b[0mmaskrcnn_benchmark\u001b[0m\u001b[0;34m.\u001b[0m\u001b[0mlayers\u001b[0m \u001b[0;32mimport\u001b[0m \u001b[0mConv2d\u001b[0m\u001b[0;34m\u001b[0m\u001b[0;34m\u001b[0m\u001b[0m\n\u001b[0m\u001b[1;32m     11\u001b[0m \u001b[0;32mfrom\u001b[0m \u001b[0mmaskrcnn_benchmark\u001b[0m\u001b[0;34m.\u001b[0m\u001b[0mmodeling\u001b[0m\u001b[0;34m.\u001b[0m\u001b[0mpoolers\u001b[0m \u001b[0;32mimport\u001b[0m \u001b[0mPooler\u001b[0m\u001b[0;34m\u001b[0m\u001b[0;34m\u001b[0m\u001b[0m\n\u001b[1;32m     12\u001b[0m \u001b[0;34m\u001b[0m\u001b[0m\n",
      "\u001b[0;32m~/Desktop/HR/maskrcnn/maskrcnn-benchmark/maskrcnn_benchmark/layers/__init__.py\u001b[0m in \u001b[0;36m<module>\u001b[0;34m\u001b[0m\n\u001b[1;32m      8\u001b[0m \u001b[0;32mfrom\u001b[0m \u001b[0;34m.\u001b[0m\u001b[0mmisc\u001b[0m \u001b[0;32mimport\u001b[0m \u001b[0mBatchNorm2d\u001b[0m\u001b[0;34m\u001b[0m\u001b[0;34m\u001b[0m\u001b[0m\n\u001b[1;32m      9\u001b[0m \u001b[0;32mfrom\u001b[0m \u001b[0;34m.\u001b[0m\u001b[0mmisc\u001b[0m \u001b[0;32mimport\u001b[0m \u001b[0minterpolate\u001b[0m\u001b[0;34m\u001b[0m\u001b[0;34m\u001b[0m\u001b[0m\n\u001b[0;32m---> 10\u001b[0;31m \u001b[0;32mfrom\u001b[0m \u001b[0;34m.\u001b[0m\u001b[0mnms\u001b[0m \u001b[0;32mimport\u001b[0m \u001b[0mnms\u001b[0m\u001b[0;34m\u001b[0m\u001b[0;34m\u001b[0m\u001b[0m\n\u001b[0m\u001b[1;32m     11\u001b[0m \u001b[0;32mfrom\u001b[0m \u001b[0;34m.\u001b[0m\u001b[0mroi_align\u001b[0m \u001b[0;32mimport\u001b[0m \u001b[0mROIAlign\u001b[0m\u001b[0;34m\u001b[0m\u001b[0;34m\u001b[0m\u001b[0m\n\u001b[1;32m     12\u001b[0m \u001b[0;32mfrom\u001b[0m \u001b[0;34m.\u001b[0m\u001b[0mroi_align\u001b[0m \u001b[0;32mimport\u001b[0m \u001b[0mroi_align\u001b[0m\u001b[0;34m\u001b[0m\u001b[0;34m\u001b[0m\u001b[0m\n",
      "\u001b[0;32m~/Desktop/HR/maskrcnn/maskrcnn-benchmark/maskrcnn_benchmark/layers/nms.py\u001b[0m in \u001b[0;36m<module>\u001b[0;34m\u001b[0m\n\u001b[1;32m      1\u001b[0m \u001b[0;31m# Copyright (c) Facebook, Inc. and its affiliates. All Rights Reserved.\u001b[0m\u001b[0;34m\u001b[0m\u001b[0;34m\u001b[0m\u001b[0;34m\u001b[0m\u001b[0m\n\u001b[1;32m      2\u001b[0m \u001b[0;31m# from ._utils import _C\u001b[0m\u001b[0;34m\u001b[0m\u001b[0;34m\u001b[0m\u001b[0;34m\u001b[0m\u001b[0m\n\u001b[0;32m----> 3\u001b[0;31m \u001b[0;32mfrom\u001b[0m \u001b[0mmaskrcnn_benchmark\u001b[0m \u001b[0;32mimport\u001b[0m \u001b[0m_C\u001b[0m\u001b[0;34m\u001b[0m\u001b[0;34m\u001b[0m\u001b[0m\n\u001b[0m\u001b[1;32m      4\u001b[0m \u001b[0;34m\u001b[0m\u001b[0m\n\u001b[1;32m      5\u001b[0m \u001b[0;32mfrom\u001b[0m \u001b[0mapex\u001b[0m \u001b[0;32mimport\u001b[0m \u001b[0mamp\u001b[0m\u001b[0;34m\u001b[0m\u001b[0;34m\u001b[0m\u001b[0m\n",
      "\u001b[0;31mImportError\u001b[0m: /home/cver/Desktop/HR/maskrcnn/maskrcnn-benchmark/maskrcnn_benchmark/_C.cpython-37m-x86_64-linux-gnu.so: undefined symbol: _ZN6caffe28TypeMeta21_typeMetaDataInstanceIN3c108BFloat16EEEPKNS_6detail12TypeMetaDataEv"
     ]
    }
   ],
   "source": [
    "import sys\n",
    "sys.path.append('/home/cver/docker-data/maskrcnn-lcx/cxtest2/maskrcnn_benchmark')\n",
    "from maskrcnn_benchmark.config import cfg\n",
    "from maskrcnn_benchmark.modeling.roi_heads.box_head.box_head import ROIBoxHead\n",
    "\n",
    "a = ROIBoxHead(cfg,64)\n",
    "\n"
   ]
  },
  {
   "cell_type": "code",
   "execution_count": 45,
   "metadata": {},
   "outputs": [
    {
     "name": "stdout",
     "output_type": "stream",
     "text": [
      "<class 'tuple'>\n",
      "<class 'int'>\n"
     ]
    }
   ],
   "source": []
  },
  {
   "cell_type": "code",
   "execution_count": null,
   "metadata": {},
   "outputs": [],
   "source": []
  }
 ],
 "metadata": {
  "kernelspec": {
   "display_name": "Python 3",
   "language": "python",
   "name": "python3"
  },
  "language_info": {
   "codemirror_mode": {
    "name": "ipython",
    "version": 3
   },
   "file_extension": ".py",
   "mimetype": "text/x-python",
   "name": "python",
   "nbconvert_exporter": "python",
   "pygments_lexer": "ipython3",
   "version": "3.7.4"
  }
 },
 "nbformat": 4,
 "nbformat_minor": 4
}

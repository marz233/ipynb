{
 "cells": [
  {
   "cell_type": "code",
   "execution_count": null,
   "metadata": {},
   "outputs": [],
   "source": [
    "\n",
    "log_path = r'/home/cver/docker-data/maskrcnn-lcx/cxtest2/output/output_orig_clr1/log.txt'\n",
    "fo = open(log_path, \"r\")\n",
    " \n",
    "for line in fo.readlines():                          #依次读取每行  \n",
    "    if \"Start training\" in line:\n",
    "def res_recorder():\n",
    "    "
   ]
  }
 ],
 "metadata": {
  "kernelspec": {
   "display_name": "Python 3",
   "language": "python",
   "name": "python3"
  },
  "language_info": {
   "codemirror_mode": {
    "name": "ipython",
    "version": 3
   },
   "file_extension": ".py",
   "mimetype": "text/x-python",
   "name": "python",
   "nbconvert_exporter": "python",
   "pygments_lexer": "ipython3",
   "version": "3.7.4"
  }
 },
 "nbformat": 4,
 "nbformat_minor": 4
}

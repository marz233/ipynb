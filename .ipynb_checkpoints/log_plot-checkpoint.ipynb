{
 "cells": [
  {
   "cell_type": "code",
   "execution_count": null,
   "metadata": {},
   "outputs": [],
   "source": [
    "\n",
    "log_path = r'/home/cver/docker-data/maskrcnn-lcx/cxtest2/output/output_orig_clr1/log.txt'\n",
    "fo = open(log_path, \"r\")\n",
    "print \"文件名为: \", fo.name\n",
    " \n",
    "for line in fo.readlines():                          #依次读取每行  \n",
    "    line = line.strip()                             #去掉每行头尾空白  \n",
    "    print \"读取的数据为: %s\" % (line)"
   ]
  }
 ],
 "metadata": {
  "kernelspec": {
   "display_name": "Python 3",
   "language": "python",
   "name": "python3"
  },
  "language_info": {
   "codemirror_mode": {
    "name": "ipython",
    "version": 3
   },
   "file_extension": ".py",
   "mimetype": "text/x-python",
   "name": "python",
   "nbconvert_exporter": "python",
   "pygments_lexer": "ipython3",
   "version": "3.7.4"
  }
 },
 "nbformat": 4,
 "nbformat_minor": 4
}

{
 "cells": [
  {
   "cell_type": "code",
   "execution_count": 21,
   "metadata": {},
   "outputs": [
    {
     "name": "stdout",
     "output_type": "stream",
     "text": [
      "tensor([[ True,  True, False, False],\n",
      "        [False, False, False, False],\n",
      "        [False, False, False,  True]])\n"
     ]
    }
   ],
   "source": [
    "import torch\n",
    "import numpy\n",
    "t = torch.tensor([[.94, .89, .14, .13], \n",
    "                  [.23, .01, .25, .15],\n",
    "                  [.33, .23, .12, 1-2e-3]])\n",
    "rt = t > .5\n",
    "\n",
    "a = numpy.array(t)\n",
    "ra = a > .5\n",
    "\n",
    "print(rt)"
   ]
  },
  {
   "cell_type": "code",
   "execution_count": 28,
   "metadata": {},
   "outputs": [
    {
     "name": "stdout",
     "output_type": "stream",
     "text": [
      "tensor([[0.5000, 0.5000, 0.2000, 0.2000],\n",
      "        [0.2300, 0.2000, 0.2500, 0.2000],\n",
      "        [0.3300, 0.2300, 0.2000, 0.5000]])\n",
      "[[0.5  0.5  0.2  0.2 ]\n",
      " [0.23 0.2  0.25 0.2 ]\n",
      " [0.33 0.23 0.2  0.5 ]]\n",
      "0.25 0.25 [0.2 0.2]\n"
     ]
    },
    {
     "name": "stderr",
     "output_type": "stream",
     "text": [
      "/home/cver/anaconda3/envs/lcx/lib/python3.7/site-packages/ipykernel_launcher.py:6: FutureWarning: Using a non-tuple sequence for multidimensional indexing is deprecated; use `arr[tuple(seq)]` instead of `arr[seq]`. In the future this will be interpreted as an array index, `arr[np.array(seq)]`, which will result either in an error or a different result.\n",
      "  \n"
     ]
    }
   ],
   "source": [
    "ct = t.clamp(min=0.2,max=0.5)\n",
    "print(ct)\n",
    "\n",
    "ca = a.clip(min=0.2,max=0.5)\n",
    "print(ca)\n",
    "print(ca[1,2],ca[1][2],ca[[[0,1],[2,3]]])"
   ]
  },
  {
   "cell_type": "code",
   "execution_count": 23,
   "metadata": {},
   "outputs": [
    {
     "name": "stdout",
     "output_type": "stream",
     "text": [
      "tensor([[False, False,  True,  True],\n",
      "        [False,  True, False,  True],\n",
      "        [False, False,  True, False]])\n",
      "[[False False  True  True]\n",
      " [False  True False  True]\n",
      " [False False  True False]]\n"
     ]
    }
   ],
   "source": [
    "jt = ct == .2\n",
    "print(jt)\n",
    "ja = ca == .2\n",
    "print(ja)"
   ]
  },
  {
   "cell_type": "code",
   "execution_count": 24,
   "metadata": {},
   "outputs": [
    {
     "name": "stdout",
     "output_type": "stream",
     "text": [
      "tensor([0.1400, 0.1300, 0.0100, 0.1500, 0.1200])\n",
      "[0.14 0.13 0.01 0.15 0.12]\n"
     ]
    }
   ],
   "source": [
    "print(t[jt])\n",
    "print(a[ja])"
   ]
  },
  {
   "cell_type": "code",
   "execution_count": 20,
   "metadata": {},
   "outputs": [
    {
     "data": {
      "text/plain": [
       "0.998"
      ]
     },
     "execution_count": 20,
     "metadata": {},
     "output_type": "execute_result"
    }
   ],
   "source": [
    "1-2e-3"
   ]
  },
  {
   "cell_type": "code",
   "execution_count": 42,
   "metadata": {},
   "outputs": [
    {
     "name": "stdout",
     "output_type": "stream",
     "text": [
      "1 [[[0.51 0.52 0.21 0.22]\n",
      "  [0.33 0.27 0.28 0.53]]\n",
      "\n",
      " [[0.23 0.24 0.25 0.26]\n",
      "  [0.33 0.27 0.28 0.53]]]\n",
      "2 [[[0.23 0.24 0.25 0.26]\n",
      "  [0.23 0.24 0.25 0.26]]\n",
      "\n",
      " [[0.51 0.52 0.21 0.22]\n",
      "  [0.51 0.52 0.21 0.22]]]\n",
      "[[0.52 0.27]\n",
      " [0.23 0.33]]\n"
     ]
    }
   ],
   "source": [
    "import numpy as np\n",
    "arr = np.array(([[0.5100, 0.5200, 0.2100, 0.2200],\n",
    "                 [0.2300, 0.2400, 0.2500, 0.2600],\n",
    "                 [0.3300, 0.2700, 0.2800, 0.5300]]))\n",
    "ind = np.array([[0,2],[1,2]])\n",
    "ind2 = np.array([[1,1],[0,0]])\n",
    "print('1',arr[ind])\n",
    "print('2',arr[ind2])\n",
    "\n",
    "print(arr[ind,ind2])\n",
    "# print(arr[ind][ind2])"
   ]
  },
  {
   "cell_type": "code",
   "execution_count": 49,
   "metadata": {},
   "outputs": [
    {
     "name": "stdout",
     "output_type": "stream",
     "text": [
      "tensor([1.0000, 2.7183])\n",
      "0.6931471805599453\n",
      "tensor([2.])\n"
     ]
    }
   ],
   "source": [
    "import torch,math\n",
    "a = torch.exp(torch.tensor([0, 1.]))\n",
    "print(a)\n",
    "m = math.log(2.)\n",
    "print(m)\n",
    "b = torch.exp(torch.tensor([m]))\n",
    "print(b)"
   ]
  },
  {
   "cell_type": "code",
   "execution_count": null,
   "metadata": {},
   "outputs": [],
   "source": []
  }
 ],
 "metadata": {
  "kernelspec": {
   "display_name": "Python 3",
   "language": "python",
   "name": "python3"
  },
  "language_info": {
   "codemirror_mode": {
    "name": "ipython",
    "version": 3
   },
   "file_extension": ".py",
   "mimetype": "text/x-python",
   "name": "python",
   "nbconvert_exporter": "python",
   "pygments_lexer": "ipython3",
   "version": "3.7.4"
  }
 },
 "nbformat": 4,
 "nbformat_minor": 4
}
